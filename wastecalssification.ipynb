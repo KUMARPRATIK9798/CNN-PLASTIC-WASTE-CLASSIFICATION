{
 "cells": [
  {
   "cell_type": "code",
   "execution_count": null,
   "metadata": {},
   "outputs": [],
   "source": []
  },
  {
   "attachments": {},
   "cell_type": "markdown",
   "metadata": {},
   "source": [
    "## waste management"
   ]
  },
  {
   "cell_type": "code",
   "execution_count": 1,
   "metadata": {},
   "outputs": [
    {
     "name": "stdout",
     "output_type": "stream",
     "text": [
      "Collecting opencv-pythonNote: you may need to restart the kernel to use updated packages.\n",
      "\n",
      "  Downloading opencv_python-4.11.0.86-cp37-abi3-win_amd64.whl.metadata (20 kB)\n",
      "Requirement already satisfied: numpy>=1.21.2 in c:\\users\\pratik\\appdata\\local\\programs\\python\\python311\\lib\\site-packages (from opencv-python) (2.0.2)\n",
      "Downloading opencv_python-4.11.0.86-cp37-abi3-win_amd64.whl (39.5 MB)\n",
      "   ---------------------------------------- 0.0/39.5 MB ? eta -:--:--\n",
      "    --------------------------------------- 0.5/39.5 MB 3.4 MB/s eta 0:00:12\n",
      "   - -------------------------------------- 1.3/39.5 MB 3.9 MB/s eta 0:00:10\n",
      "   -- ------------------------------------- 2.4/39.5 MB 4.5 MB/s eta 0:00:09\n",
      "   --- ------------------------------------ 3.4/39.5 MB 4.6 MB/s eta 0:00:08\n",
      "   ---- ----------------------------------- 4.7/39.5 MB 4.8 MB/s eta 0:00:08\n",
      "   ----- ---------------------------------- 5.8/39.5 MB 5.0 MB/s eta 0:00:07\n",
      "   ------- -------------------------------- 7.3/39.5 MB 5.3 MB/s eta 0:00:07\n",
      "   -------- ------------------------------- 8.7/39.5 MB 5.4 MB/s eta 0:00:06\n",
      "   --------- ------------------------------ 9.7/39.5 MB 5.4 MB/s eta 0:00:06\n",
      "   ----------- ---------------------------- 11.3/39.5 MB 5.5 MB/s eta 0:00:06\n",
      "   ------------ --------------------------- 12.1/39.5 MB 5.4 MB/s eta 0:00:06\n",
      "   ------------- -------------------------- 13.4/39.5 MB 5.4 MB/s eta 0:00:05\n",
      "   -------------- ------------------------- 14.7/39.5 MB 5.6 MB/s eta 0:00:05\n",
      "   ---------------- ----------------------- 16.0/39.5 MB 5.6 MB/s eta 0:00:05\n",
      "   ----------------- ---------------------- 17.6/39.5 MB 5.7 MB/s eta 0:00:04\n",
      "   ------------------- -------------------- 18.9/39.5 MB 5.8 MB/s eta 0:00:04\n",
      "   -------------------- ------------------- 20.4/39.5 MB 5.9 MB/s eta 0:00:04\n",
      "   --------------------- ------------------ 21.2/39.5 MB 5.9 MB/s eta 0:00:04\n",
      "   --------------------- ------------------ 21.2/39.5 MB 5.9 MB/s eta 0:00:04\n",
      "   ---------------------- ----------------- 22.3/39.5 MB 5.5 MB/s eta 0:00:04\n",
      "   ---------------------- ----------------- 22.5/39.5 MB 5.4 MB/s eta 0:00:04\n",
      "   ----------------------- ---------------- 23.3/39.5 MB 5.2 MB/s eta 0:00:04\n",
      "   ------------------------ --------------- 23.9/39.5 MB 5.1 MB/s eta 0:00:04\n",
      "   ------------------------ --------------- 24.4/39.5 MB 5.0 MB/s eta 0:00:03\n",
      "   ------------------------- -------------- 24.9/39.5 MB 4.9 MB/s eta 0:00:03\n",
      "   ------------------------- -------------- 25.2/39.5 MB 4.7 MB/s eta 0:00:04\n",
      "   ------------------------- -------------- 25.4/39.5 MB 4.6 MB/s eta 0:00:04\n",
      "   -------------------------- ------------- 25.7/39.5 MB 4.5 MB/s eta 0:00:04\n",
      "   -------------------------- ------------- 26.0/39.5 MB 4.4 MB/s eta 0:00:04\n",
      "   -------------------------- ------------- 26.2/39.5 MB 4.3 MB/s eta 0:00:04\n",
      "   --------------------------- ------------ 26.7/39.5 MB 4.2 MB/s eta 0:00:04\n",
      "   --------------------------- ------------ 27.3/39.5 MB 4.2 MB/s eta 0:00:03\n",
      "   ---------------------------- ----------- 27.8/39.5 MB 4.1 MB/s eta 0:00:03\n",
      "   ---------------------------- ----------- 28.3/39.5 MB 4.1 MB/s eta 0:00:03\n",
      "   ----------------------------- ---------- 29.1/39.5 MB 4.0 MB/s eta 0:00:03\n",
      "   ------------------------------ --------- 29.6/39.5 MB 4.0 MB/s eta 0:00:03\n",
      "   ------------------------------ --------- 30.1/39.5 MB 3.9 MB/s eta 0:00:03\n",
      "   ------------------------------- -------- 30.7/39.5 MB 3.9 MB/s eta 0:00:03\n",
      "   ------------------------------- -------- 31.2/39.5 MB 3.9 MB/s eta 0:00:03\n",
      "   -------------------------------- ------- 31.7/39.5 MB 3.8 MB/s eta 0:00:03\n",
      "   -------------------------------- ------- 32.2/39.5 MB 3.8 MB/s eta 0:00:02\n",
      "   --------------------------------- ------ 32.8/39.5 MB 3.8 MB/s eta 0:00:02\n",
      "   --------------------------------- ------ 33.6/39.5 MB 3.7 MB/s eta 0:00:02\n",
      "   ---------------------------------- ----- 33.8/39.5 MB 3.7 MB/s eta 0:00:02\n",
      "   ----------------------------------- ---- 34.6/39.5 MB 3.7 MB/s eta 0:00:02\n",
      "   ----------------------------------- ---- 35.1/39.5 MB 3.7 MB/s eta 0:00:02\n",
      "   ------------------------------------ --- 35.7/39.5 MB 3.7 MB/s eta 0:00:02\n",
      "   ------------------------------------ --- 36.2/39.5 MB 3.6 MB/s eta 0:00:01\n",
      "   ------------------------------------- -- 37.0/39.5 MB 3.6 MB/s eta 0:00:01\n",
      "   ------------------------------------- -- 37.5/39.5 MB 3.6 MB/s eta 0:00:01\n",
      "   -------------------------------------- - 38.0/39.5 MB 3.6 MB/s eta 0:00:01\n",
      "   ---------------------------------------  38.5/39.5 MB 3.6 MB/s eta 0:00:01\n",
      "   ---------------------------------------  39.1/39.5 MB 3.5 MB/s eta 0:00:01\n",
      "   ---------------------------------------- 39.5/39.5 MB 3.5 MB/s eta 0:00:00\n",
      "Installing collected packages: opencv-python\n",
      "Successfully installed opencv-python-4.11.0.86\n"
     ]
    }
   ],
   "source": [
    "pip install opencv-python"
   ]
  },
  {
   "cell_type": "code",
   "execution_count": 1,
   "metadata": {},
   "outputs": [
    {
     "name": "stdout",
     "output_type": "stream",
     "text": [
      "Requirement already satisfied: tensorflow in c:\\users\\pratik\\appdata\\local\\programs\\python\\python311\\lib\\site-packages (2.18.0)\n",
      "Requirement already satisfied: tensorflow-intel==2.18.0 in c:\\users\\pratik\\appdata\\local\\programs\\python\\python311\\lib\\site-packages (from tensorflow) (2.18.0)\n",
      "Requirement already satisfied: absl-py>=1.0.0 in c:\\users\\pratik\\appdata\\local\\programs\\python\\python311\\lib\\site-packages (from tensorflow-intel==2.18.0->tensorflow) (2.1.0)\n",
      "Requirement already satisfied: astunparse>=1.6.0 in c:\\users\\pratik\\appdata\\local\\programs\\python\\python311\\lib\\site-packages (from tensorflow-intel==2.18.0->tensorflow) (1.6.3)\n",
      "Requirement already satisfied: flatbuffers>=24.3.25 in c:\\users\\pratik\\appdata\\local\\programs\\python\\python311\\lib\\site-packages (from tensorflow-intel==2.18.0->tensorflow) (24.12.23)\n",
      "Requirement already satisfied: gast!=0.5.0,!=0.5.1,!=0.5.2,>=0.2.1 in c:\\users\\pratik\\appdata\\local\\programs\\python\\python311\\lib\\site-packages (from tensorflow-intel==2.18.0->tensorflow) (0.6.0)\n",
      "Requirement already satisfied: google-pasta>=0.1.1 in c:\\users\\pratik\\appdata\\local\\programs\\python\\python311\\lib\\site-packages (from tensorflow-intel==2.18.0->tensorflow) (0.2.0)\n",
      "Requirement already satisfied: libclang>=13.0.0 in c:\\users\\pratik\\appdata\\local\\programs\\python\\python311\\lib\\site-packages (from tensorflow-intel==2.18.0->tensorflow) (18.1.1)\n",
      "Requirement already satisfied: opt-einsum>=2.3.2 in c:\\users\\pratik\\appdata\\local\\programs\\python\\python311\\lib\\site-packages (from tensorflow-intel==2.18.0->tensorflow) (3.4.0)\n",
      "Requirement already satisfied: packaging in c:\\users\\pratik\\appdata\\local\\programs\\python\\python311\\lib\\site-packages (from tensorflow-intel==2.18.0->tensorflow) (24.2)\n",
      "Requirement already satisfied: protobuf!=4.21.0,!=4.21.1,!=4.21.2,!=4.21.3,!=4.21.4,!=4.21.5,<6.0.0dev,>=3.20.3 in c:\\users\\pratik\\appdata\\local\\programs\\python\\python311\\lib\\site-packages (from tensorflow-intel==2.18.0->tensorflow) (5.29.3)\n",
      "Requirement already satisfied: requests<3,>=2.21.0 in c:\\users\\pratik\\appdata\\local\\programs\\python\\python311\\lib\\site-packages (from tensorflow-intel==2.18.0->tensorflow) (2.32.3)\n",
      "Requirement already satisfied: setuptools in c:\\users\\pratik\\appdata\\local\\programs\\python\\python311\\lib\\site-packages (from tensorflow-intel==2.18.0->tensorflow) (65.5.0)\n",
      "Requirement already satisfied: six>=1.12.0 in c:\\users\\pratik\\appdata\\local\\programs\\python\\python311\\lib\\site-packages (from tensorflow-intel==2.18.0->tensorflow) (1.17.0)\n",
      "Requirement already satisfied: termcolor>=1.1.0 in c:\\users\\pratik\\appdata\\local\\programs\\python\\python311\\lib\\site-packages (from tensorflow-intel==2.18.0->tensorflow) (2.5.0)\n",
      "Requirement already satisfied: typing-extensions>=3.6.6 in c:\\users\\pratik\\appdata\\local\\programs\\python\\python311\\lib\\site-packages (from tensorflow-intel==2.18.0->tensorflow) (4.12.2)\n",
      "Requirement already satisfied: wrapt>=1.11.0 in c:\\users\\pratik\\appdata\\local\\programs\\python\\python311\\lib\\site-packages (from tensorflow-intel==2.18.0->tensorflow) (1.17.2)\n",
      "Requirement already satisfied: grpcio<2.0,>=1.24.3 in c:\\users\\pratik\\appdata\\local\\programs\\python\\python311\\lib\\site-packages (from tensorflow-intel==2.18.0->tensorflow) (1.69.0)\n",
      "Requirement already satisfied: tensorboard<2.19,>=2.18 in c:\\users\\pratik\\appdata\\local\\programs\\python\\python311\\lib\\site-packages (from tensorflow-intel==2.18.0->tensorflow) (2.18.0)\n",
      "Requirement already satisfied: keras>=3.5.0 in c:\\users\\pratik\\appdata\\local\\programs\\python\\python311\\lib\\site-packages (from tensorflow-intel==2.18.0->tensorflow) (3.8.0)\n",
      "Requirement already satisfied: numpy<2.1.0,>=1.26.0 in c:\\users\\pratik\\appdata\\local\\programs\\python\\python311\\lib\\site-packages (from tensorflow-intel==2.18.0->tensorflow) (2.0.2)\n",
      "Requirement already satisfied: h5py>=3.11.0 in c:\\users\\pratik\\appdata\\local\\programs\\python\\python311\\lib\\site-packages (from tensorflow-intel==2.18.0->tensorflow) (3.12.1)\n",
      "Requirement already satisfied: ml-dtypes<0.5.0,>=0.4.0 in c:\\users\\pratik\\appdata\\local\\programs\\python\\python311\\lib\\site-packages (from tensorflow-intel==2.18.0->tensorflow) (0.4.1)\n",
      "Requirement already satisfied: tensorflow-io-gcs-filesystem>=0.23.1 in c:\\users\\pratik\\appdata\\local\\programs\\python\\python311\\lib\\site-packages (from tensorflow-intel==2.18.0->tensorflow) (0.31.0)\n",
      "Requirement already satisfied: wheel<1.0,>=0.23.0 in c:\\users\\pratik\\appdata\\local\\programs\\python\\python311\\lib\\site-packages (from astunparse>=1.6.0->tensorflow-intel==2.18.0->tensorflow) (0.45.1)\n",
      "Requirement already satisfied: rich in c:\\users\\pratik\\appdata\\local\\programs\\python\\python311\\lib\\site-packages (from keras>=3.5.0->tensorflow-intel==2.18.0->tensorflow) (13.9.4)\n",
      "Requirement already satisfied: namex in c:\\users\\pratik\\appdata\\local\\programs\\python\\python311\\lib\\site-packages (from keras>=3.5.0->tensorflow-intel==2.18.0->tensorflow) (0.0.8)\n",
      "Requirement already satisfied: optree in c:\\users\\pratik\\appdata\\local\\programs\\python\\python311\\lib\\site-packages (from keras>=3.5.0->tensorflow-intel==2.18.0->tensorflow) (0.14.0)\n",
      "Requirement already satisfied: charset-normalizer<4,>=2 in c:\\users\\pratik\\appdata\\local\\programs\\python\\python311\\lib\\site-packages (from requests<3,>=2.21.0->tensorflow-intel==2.18.0->tensorflow) (3.4.1)\n",
      "Requirement already satisfied: idna<4,>=2.5 in c:\\users\\pratik\\appdata\\local\\programs\\python\\python311\\lib\\site-packages (from requests<3,>=2.21.0->tensorflow-intel==2.18.0->tensorflow) (3.10)\n",
      "Requirement already satisfied: urllib3<3,>=1.21.1 in c:\\users\\pratik\\appdata\\local\\programs\\python\\python311\\lib\\site-packages (from requests<3,>=2.21.0->tensorflow-intel==2.18.0->tensorflow) (2.3.0)\n",
      "Requirement already satisfied: certifi>=2017.4.17 in c:\\users\\pratik\\appdata\\local\\programs\\python\\python311\\lib\\site-packages (from requests<3,>=2.21.0->tensorflow-intel==2.18.0->tensorflow) (2024.12.14)\n",
      "Requirement already satisfied: markdown>=2.6.8 in c:\\users\\pratik\\appdata\\local\\programs\\python\\python311\\lib\\site-packages (from tensorboard<2.19,>=2.18->tensorflow-intel==2.18.0->tensorflow) (3.7)\n",
      "Requirement already satisfied: tensorboard-data-server<0.8.0,>=0.7.0 in c:\\users\\pratik\\appdata\\local\\programs\\python\\python311\\lib\\site-packages (from tensorboard<2.19,>=2.18->tensorflow-intel==2.18.0->tensorflow) (0.7.2)\n",
      "Requirement already satisfied: werkzeug>=1.0.1 in c:\\users\\pratik\\appdata\\local\\programs\\python\\python311\\lib\\site-packages (from tensorboard<2.19,>=2.18->tensorflow-intel==2.18.0->tensorflow) (3.1.3)\n",
      "Requirement already satisfied: MarkupSafe>=2.1.1 in c:\\users\\pratik\\appdata\\local\\programs\\python\\python311\\lib\\site-packages (from werkzeug>=1.0.1->tensorboard<2.19,>=2.18->tensorflow-intel==2.18.0->tensorflow) (3.0.2)\n",
      "Requirement already satisfied: markdown-it-py>=2.2.0 in c:\\users\\pratik\\appdata\\local\\programs\\python\\python311\\lib\\site-packages (from rich->keras>=3.5.0->tensorflow-intel==2.18.0->tensorflow) (3.0.0)\n",
      "Requirement already satisfied: pygments<3.0.0,>=2.13.0 in c:\\users\\pratik\\appdata\\local\\programs\\python\\python311\\lib\\site-packages (from rich->keras>=3.5.0->tensorflow-intel==2.18.0->tensorflow) (2.19.1)\n",
      "Requirement already satisfied: mdurl~=0.1 in c:\\users\\pratik\\appdata\\local\\programs\\python\\python311\\lib\\site-packages (from markdown-it-py>=2.2.0->rich->keras>=3.5.0->tensorflow-intel==2.18.0->tensorflow) (0.1.2)\n",
      "Note: you may need to restart the kernel to use updated packages.\n"
     ]
    }
   ],
   "source": [
    "pip install tensorflow"
   ]
  },
  {
   "cell_type": "code",
   "execution_count": 1,
   "metadata": {},
   "outputs": [
    {
     "ename": "ModuleNotFoundError",
     "evalue": "No module named 'pandas'",
     "output_type": "error",
     "traceback": [
      "\u001b[1;31m---------------------------------------------------------------------------\u001b[0m",
      "\u001b[1;31mModuleNotFoundError\u001b[0m                       Traceback (most recent call last)",
      "Cell \u001b[1;32mIn[1], line 2\u001b[0m\n\u001b[0;32m      1\u001b[0m \u001b[38;5;28;01mimport\u001b[39;00m\u001b[38;5;250m \u001b[39m\u001b[38;5;21;01mnumpy\u001b[39;00m\u001b[38;5;250m \u001b[39m\u001b[38;5;28;01mas\u001b[39;00m\u001b[38;5;250m \u001b[39m\u001b[38;5;21;01mnp\u001b[39;00m\n\u001b[1;32m----> 2\u001b[0m \u001b[38;5;28;01mimport\u001b[39;00m\u001b[38;5;250m \u001b[39m\u001b[38;5;21;01mpandas\u001b[39;00m\u001b[38;5;250m \u001b[39m\u001b[38;5;28;01mas\u001b[39;00m\u001b[38;5;250m \u001b[39m\u001b[38;5;21;01mpd\u001b[39;00m\n\u001b[0;32m      3\u001b[0m \u001b[38;5;28;01mimport\u001b[39;00m\u001b[38;5;250m \u001b[39m\u001b[38;5;21;01mmatplotlib\u001b[39;00m\u001b[38;5;21;01m.\u001b[39;00m\u001b[38;5;21;01mpyplot\u001b[39;00m\u001b[38;5;250m \u001b[39m\u001b[38;5;28;01mas\u001b[39;00m\u001b[38;5;250m \u001b[39m\u001b[38;5;21;01mplt\u001b[39;00m\n\u001b[0;32m      4\u001b[0m \u001b[38;5;28;01mimport\u001b[39;00m\u001b[38;5;250m \u001b[39m\u001b[38;5;21;01mcv2\u001b[39;00m\n",
      "\u001b[1;31mModuleNotFoundError\u001b[0m: No module named 'pandas'"
     ]
    }
   ],
   "source": [
    "import numpy as np\n",
    "import pandas as pd\n",
    "import matplotlib.pyplot as plt\n",
    "import cv2\n",
    "from tqdm import tqdm\n",
    "import warnings\n",
    "warnings.filterwarning('ignore')\n",
    " \n",
    "train_path = \"dataset/TRAIN\" \n",
    "test_path = \"dataset/TEST\"\n",
    " \n",
    "from tensorflow.keras.models import Sequential\n",
    "from tensorflow.keras.layers import Conv2D, MaxPooling2D, Activation, Dropout, Flatten, Dense, BatchNormalization\n",
    "from tensorflow.keras.preprocessing.image import ImageDataGenerator, img_to_array, load_img\n",
    "from tensorflow.keras.utils import plot_model\n",
    "from glob import glob\n",
    " \n",
    "#visualization\n",
    "x_data = []\n",
    "y_data = []\n",
    "for category in glob(train_path+\"/*\"):\n",
    "    for file in tqdm(glob(category+\"/*\")):\n",
    "        img_array = cv2.imread(file)\n",
    "        img_array = cv2.cvtColor(img_array,cv2.COLOR_BGR2RGB)\n",
    "        x_data.append(img_array)\n",
    "        y_data.append(category.split('/')[-1])\n",
    "data = pd.DataFrame({'image':x_data,\"label\":y_data})\n",
    " \n",
    "data.shape()\n",
    " \n",
    "colors = [\"#a0d157\", \"#c48bb8\"]\n",
    "plt.pie(data.label.value_counts(), labels = [\"Organic\",\"Recyclable\"], autopct = '%0.2f%%', colors = colors, startangle = 90, explode = [0.05, 0.05] ) #explode is optional\n",
    "plt.show()"
   ]
  },
  {
   "cell_type": "code",
   "execution_count": null,
   "metadata": {},
   "outputs": [],
   "source": []
  }
 ],
 "metadata": {
  "kernelspec": {
   "display_name": "Python 3",
   "language": "python",
   "name": "python3"
  },
  "language_info": {
   "codemirror_mode": {
    "name": "ipython",
    "version": 3
   },
   "file_extension": ".py",
   "mimetype": "text/x-python",
   "name": "python",
   "nbconvert_exporter": "python",
   "pygments_lexer": "ipython3",
   "version": "3.11.8"
  },
  "orig_nbformat": 4,
  "vscode": {
   "interpreter": {
    "hash": "1779a11b3128157a0de1a972d5c17f17946b00638dbfa31f32fe531c5417916a"
   }
  }
 },
 "nbformat": 4,
 "nbformat_minor": 2
}
